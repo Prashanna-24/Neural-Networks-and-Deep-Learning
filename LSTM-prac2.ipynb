{
 "cells": [
  {
   "cell_type": "code",
   "execution_count": 1,
   "id": "0a09d2fe-c61d-4ac7-9549-0d7c2111341d",
   "metadata": {},
   "outputs": [],
   "source": [
    "import pandas as pd\n",
    "import tensorflow as tf\n",
    "import numpy as np\n",
    "import matplotlib.pyplot as plt"
   ]
  },
  {
   "cell_type": "code",
   "execution_count": 2,
   "id": "e536c741-1bfa-414a-967c-b333c4fd75fa",
   "metadata": {
    "scrolled": true
   },
   "outputs": [
    {
     "data": {
      "text/html": [
       "<div>\n",
       "<style scoped>\n",
       "    .dataframe tbody tr th:only-of-type {\n",
       "        vertical-align: middle;\n",
       "    }\n",
       "\n",
       "    .dataframe tbody tr th {\n",
       "        vertical-align: top;\n",
       "    }\n",
       "\n",
       "    .dataframe thead th {\n",
       "        text-align: right;\n",
       "    }\n",
       "</style>\n",
       "<table border=\"1\" class=\"dataframe\">\n",
       "  <thead>\n",
       "    <tr style=\"text-align: right;\">\n",
       "      <th></th>\n",
       "      <th>date</th>\n",
       "      <th>TL BASED ISE</th>\n",
       "      <th>USD BASED ISE</th>\n",
       "      <th>SP</th>\n",
       "      <th>DAX</th>\n",
       "      <th>FTSE</th>\n",
       "      <th>NIKKEI</th>\n",
       "      <th>BOVESPA</th>\n",
       "      <th>EU</th>\n",
       "      <th>EM</th>\n",
       "    </tr>\n",
       "  </thead>\n",
       "  <tbody>\n",
       "    <tr>\n",
       "      <th>0</th>\n",
       "      <td>5-Jan-09</td>\n",
       "      <td>0.035754</td>\n",
       "      <td>0.038376</td>\n",
       "      <td>-0.004679</td>\n",
       "      <td>0.002193</td>\n",
       "      <td>0.003894</td>\n",
       "      <td>0.000000</td>\n",
       "      <td>0.031190</td>\n",
       "      <td>0.012698</td>\n",
       "      <td>0.028524</td>\n",
       "    </tr>\n",
       "    <tr>\n",
       "      <th>1</th>\n",
       "      <td>6-Jan-09</td>\n",
       "      <td>0.025426</td>\n",
       "      <td>0.031813</td>\n",
       "      <td>0.007787</td>\n",
       "      <td>0.008455</td>\n",
       "      <td>0.012866</td>\n",
       "      <td>0.004162</td>\n",
       "      <td>0.018920</td>\n",
       "      <td>0.011341</td>\n",
       "      <td>0.008773</td>\n",
       "    </tr>\n",
       "    <tr>\n",
       "      <th>2</th>\n",
       "      <td>7-Jan-09</td>\n",
       "      <td>-0.028862</td>\n",
       "      <td>-0.026353</td>\n",
       "      <td>-0.030469</td>\n",
       "      <td>-0.017833</td>\n",
       "      <td>-0.028735</td>\n",
       "      <td>0.017293</td>\n",
       "      <td>-0.035899</td>\n",
       "      <td>-0.017073</td>\n",
       "      <td>-0.020015</td>\n",
       "    </tr>\n",
       "    <tr>\n",
       "      <th>3</th>\n",
       "      <td>8-Jan-09</td>\n",
       "      <td>-0.062208</td>\n",
       "      <td>-0.084716</td>\n",
       "      <td>0.003391</td>\n",
       "      <td>-0.011726</td>\n",
       "      <td>-0.000466</td>\n",
       "      <td>-0.040061</td>\n",
       "      <td>0.028283</td>\n",
       "      <td>-0.005561</td>\n",
       "      <td>-0.019424</td>\n",
       "    </tr>\n",
       "    <tr>\n",
       "      <th>4</th>\n",
       "      <td>9-Jan-09</td>\n",
       "      <td>0.009860</td>\n",
       "      <td>0.009658</td>\n",
       "      <td>-0.021533</td>\n",
       "      <td>-0.019873</td>\n",
       "      <td>-0.012710</td>\n",
       "      <td>-0.004474</td>\n",
       "      <td>-0.009764</td>\n",
       "      <td>-0.010989</td>\n",
       "      <td>-0.007802</td>\n",
       "    </tr>\n",
       "    <tr>\n",
       "      <th>...</th>\n",
       "      <td>...</td>\n",
       "      <td>...</td>\n",
       "      <td>...</td>\n",
       "      <td>...</td>\n",
       "      <td>...</td>\n",
       "      <td>...</td>\n",
       "      <td>...</td>\n",
       "      <td>...</td>\n",
       "      <td>...</td>\n",
       "      <td>...</td>\n",
       "    </tr>\n",
       "    <tr>\n",
       "      <th>531</th>\n",
       "      <td>16-Feb-11</td>\n",
       "      <td>0.008599</td>\n",
       "      <td>0.013400</td>\n",
       "      <td>0.006238</td>\n",
       "      <td>0.001925</td>\n",
       "      <td>0.007952</td>\n",
       "      <td>0.005717</td>\n",
       "      <td>0.018371</td>\n",
       "      <td>0.006975</td>\n",
       "      <td>0.003039</td>\n",
       "    </tr>\n",
       "    <tr>\n",
       "      <th>532</th>\n",
       "      <td>17-Feb-11</td>\n",
       "      <td>0.009310</td>\n",
       "      <td>0.015977</td>\n",
       "      <td>0.003071</td>\n",
       "      <td>-0.001186</td>\n",
       "      <td>0.000345</td>\n",
       "      <td>0.002620</td>\n",
       "      <td>0.001686</td>\n",
       "      <td>-0.000581</td>\n",
       "      <td>0.001039</td>\n",
       "    </tr>\n",
       "    <tr>\n",
       "      <th>533</th>\n",
       "      <td>18-Feb-11</td>\n",
       "      <td>0.000191</td>\n",
       "      <td>-0.001653</td>\n",
       "      <td>0.001923</td>\n",
       "      <td>0.002872</td>\n",
       "      <td>-0.000723</td>\n",
       "      <td>0.000568</td>\n",
       "      <td>0.005628</td>\n",
       "      <td>0.000572</td>\n",
       "      <td>0.006938</td>\n",
       "    </tr>\n",
       "    <tr>\n",
       "      <th>534</th>\n",
       "      <td>21-Feb-11</td>\n",
       "      <td>-0.013069</td>\n",
       "      <td>-0.013706</td>\n",
       "      <td>-0.020742</td>\n",
       "      <td>-0.014239</td>\n",
       "      <td>-0.011275</td>\n",
       "      <td>0.001358</td>\n",
       "      <td>-0.011942</td>\n",
       "      <td>-0.012615</td>\n",
       "      <td>-0.000958</td>\n",
       "    </tr>\n",
       "    <tr>\n",
       "      <th>535</th>\n",
       "      <td>22-Feb-11</td>\n",
       "      <td>-0.007246</td>\n",
       "      <td>-0.019442</td>\n",
       "      <td>0.000000</td>\n",
       "      <td>-0.000473</td>\n",
       "      <td>-0.002997</td>\n",
       "      <td>-0.017920</td>\n",
       "      <td>-0.012252</td>\n",
       "      <td>-0.005465</td>\n",
       "      <td>-0.014297</td>\n",
       "    </tr>\n",
       "  </tbody>\n",
       "</table>\n",
       "<p>536 rows × 10 columns</p>\n",
       "</div>"
      ],
      "text/plain": [
       "          date  TL BASED ISE  USD BASED ISE        SP       DAX      FTSE  \\\n",
       "0     5-Jan-09      0.035754       0.038376 -0.004679  0.002193  0.003894   \n",
       "1     6-Jan-09      0.025426       0.031813  0.007787  0.008455  0.012866   \n",
       "2     7-Jan-09     -0.028862      -0.026353 -0.030469 -0.017833 -0.028735   \n",
       "3     8-Jan-09     -0.062208      -0.084716  0.003391 -0.011726 -0.000466   \n",
       "4     9-Jan-09      0.009860       0.009658 -0.021533 -0.019873 -0.012710   \n",
       "..         ...           ...            ...       ...       ...       ...   \n",
       "531  16-Feb-11      0.008599       0.013400  0.006238  0.001925  0.007952   \n",
       "532  17-Feb-11      0.009310       0.015977  0.003071 -0.001186  0.000345   \n",
       "533  18-Feb-11      0.000191      -0.001653  0.001923  0.002872 -0.000723   \n",
       "534  21-Feb-11     -0.013069      -0.013706 -0.020742 -0.014239 -0.011275   \n",
       "535  22-Feb-11     -0.007246      -0.019442  0.000000 -0.000473 -0.002997   \n",
       "\n",
       "       NIKKEI   BOVESPA        EU        EM  \n",
       "0    0.000000  0.031190  0.012698  0.028524  \n",
       "1    0.004162  0.018920  0.011341  0.008773  \n",
       "2    0.017293 -0.035899 -0.017073 -0.020015  \n",
       "3   -0.040061  0.028283 -0.005561 -0.019424  \n",
       "4   -0.004474 -0.009764 -0.010989 -0.007802  \n",
       "..        ...       ...       ...       ...  \n",
       "531  0.005717  0.018371  0.006975  0.003039  \n",
       "532  0.002620  0.001686 -0.000581  0.001039  \n",
       "533  0.000568  0.005628  0.000572  0.006938  \n",
       "534  0.001358 -0.011942 -0.012615 -0.000958  \n",
       "535 -0.017920 -0.012252 -0.005465 -0.014297  \n",
       "\n",
       "[536 rows x 10 columns]"
      ]
     },
     "execution_count": 2,
     "metadata": {},
     "output_type": "execute_result"
    }
   ],
   "source": [
    "df = pd.read_csv(\"datasets/istanbul_stock_exchange.csv\")\n",
    "df"
   ]
  },
  {
   "cell_type": "code",
   "execution_count": 3,
   "id": "e6f844ab-264e-4b2b-a5ea-e6a1dbf7596a",
   "metadata": {},
   "outputs": [
    {
     "name": "stderr",
     "output_type": "stream",
     "text": [
      "C:\\Users\\prash\\AppData\\Local\\Temp\\ipykernel_3036\\1666541646.py:1: UserWarning: Could not infer format, so each element will be parsed individually, falling back to `dateutil`. To ensure parsing is consistent and as-expected, please specify a format.\n",
      "  df['date'] = pd.to_datetime(df['date'])\n"
     ]
    },
    {
     "data": {
      "text/html": [
       "<div>\n",
       "<style scoped>\n",
       "    .dataframe tbody tr th:only-of-type {\n",
       "        vertical-align: middle;\n",
       "    }\n",
       "\n",
       "    .dataframe tbody tr th {\n",
       "        vertical-align: top;\n",
       "    }\n",
       "\n",
       "    .dataframe thead th {\n",
       "        text-align: right;\n",
       "    }\n",
       "</style>\n",
       "<table border=\"1\" class=\"dataframe\">\n",
       "  <thead>\n",
       "    <tr style=\"text-align: right;\">\n",
       "      <th></th>\n",
       "      <th>TL BASED ISE</th>\n",
       "      <th>USD BASED ISE</th>\n",
       "      <th>SP</th>\n",
       "      <th>DAX</th>\n",
       "      <th>FTSE</th>\n",
       "      <th>NIKKEI</th>\n",
       "      <th>BOVESPA</th>\n",
       "      <th>EU</th>\n",
       "      <th>EM</th>\n",
       "      <th>timestamp</th>\n",
       "    </tr>\n",
       "  </thead>\n",
       "  <tbody>\n",
       "    <tr>\n",
       "      <th>0</th>\n",
       "      <td>0.035754</td>\n",
       "      <td>0.038376</td>\n",
       "      <td>-0.004679</td>\n",
       "      <td>0.002193</td>\n",
       "      <td>0.003894</td>\n",
       "      <td>0.000000</td>\n",
       "      <td>0.031190</td>\n",
       "      <td>0.012698</td>\n",
       "      <td>0.028524</td>\n",
       "      <td>1231113600</td>\n",
       "    </tr>\n",
       "    <tr>\n",
       "      <th>1</th>\n",
       "      <td>0.025426</td>\n",
       "      <td>0.031813</td>\n",
       "      <td>0.007787</td>\n",
       "      <td>0.008455</td>\n",
       "      <td>0.012866</td>\n",
       "      <td>0.004162</td>\n",
       "      <td>0.018920</td>\n",
       "      <td>0.011341</td>\n",
       "      <td>0.008773</td>\n",
       "      <td>1231200000</td>\n",
       "    </tr>\n",
       "    <tr>\n",
       "      <th>2</th>\n",
       "      <td>-0.028862</td>\n",
       "      <td>-0.026353</td>\n",
       "      <td>-0.030469</td>\n",
       "      <td>-0.017833</td>\n",
       "      <td>-0.028735</td>\n",
       "      <td>0.017293</td>\n",
       "      <td>-0.035899</td>\n",
       "      <td>-0.017073</td>\n",
       "      <td>-0.020015</td>\n",
       "      <td>1231286400</td>\n",
       "    </tr>\n",
       "    <tr>\n",
       "      <th>3</th>\n",
       "      <td>-0.062208</td>\n",
       "      <td>-0.084716</td>\n",
       "      <td>0.003391</td>\n",
       "      <td>-0.011726</td>\n",
       "      <td>-0.000466</td>\n",
       "      <td>-0.040061</td>\n",
       "      <td>0.028283</td>\n",
       "      <td>-0.005561</td>\n",
       "      <td>-0.019424</td>\n",
       "      <td>1231372800</td>\n",
       "    </tr>\n",
       "    <tr>\n",
       "      <th>4</th>\n",
       "      <td>0.009860</td>\n",
       "      <td>0.009658</td>\n",
       "      <td>-0.021533</td>\n",
       "      <td>-0.019873</td>\n",
       "      <td>-0.012710</td>\n",
       "      <td>-0.004474</td>\n",
       "      <td>-0.009764</td>\n",
       "      <td>-0.010989</td>\n",
       "      <td>-0.007802</td>\n",
       "      <td>1231459200</td>\n",
       "    </tr>\n",
       "    <tr>\n",
       "      <th>...</th>\n",
       "      <td>...</td>\n",
       "      <td>...</td>\n",
       "      <td>...</td>\n",
       "      <td>...</td>\n",
       "      <td>...</td>\n",
       "      <td>...</td>\n",
       "      <td>...</td>\n",
       "      <td>...</td>\n",
       "      <td>...</td>\n",
       "      <td>...</td>\n",
       "    </tr>\n",
       "    <tr>\n",
       "      <th>531</th>\n",
       "      <td>0.008599</td>\n",
       "      <td>0.013400</td>\n",
       "      <td>0.006238</td>\n",
       "      <td>0.001925</td>\n",
       "      <td>0.007952</td>\n",
       "      <td>0.005717</td>\n",
       "      <td>0.018371</td>\n",
       "      <td>0.006975</td>\n",
       "      <td>0.003039</td>\n",
       "      <td>1297814400</td>\n",
       "    </tr>\n",
       "    <tr>\n",
       "      <th>532</th>\n",
       "      <td>0.009310</td>\n",
       "      <td>0.015977</td>\n",
       "      <td>0.003071</td>\n",
       "      <td>-0.001186</td>\n",
       "      <td>0.000345</td>\n",
       "      <td>0.002620</td>\n",
       "      <td>0.001686</td>\n",
       "      <td>-0.000581</td>\n",
       "      <td>0.001039</td>\n",
       "      <td>1297900800</td>\n",
       "    </tr>\n",
       "    <tr>\n",
       "      <th>533</th>\n",
       "      <td>0.000191</td>\n",
       "      <td>-0.001653</td>\n",
       "      <td>0.001923</td>\n",
       "      <td>0.002872</td>\n",
       "      <td>-0.000723</td>\n",
       "      <td>0.000568</td>\n",
       "      <td>0.005628</td>\n",
       "      <td>0.000572</td>\n",
       "      <td>0.006938</td>\n",
       "      <td>1297987200</td>\n",
       "    </tr>\n",
       "    <tr>\n",
       "      <th>534</th>\n",
       "      <td>-0.013069</td>\n",
       "      <td>-0.013706</td>\n",
       "      <td>-0.020742</td>\n",
       "      <td>-0.014239</td>\n",
       "      <td>-0.011275</td>\n",
       "      <td>0.001358</td>\n",
       "      <td>-0.011942</td>\n",
       "      <td>-0.012615</td>\n",
       "      <td>-0.000958</td>\n",
       "      <td>1298246400</td>\n",
       "    </tr>\n",
       "    <tr>\n",
       "      <th>535</th>\n",
       "      <td>-0.007246</td>\n",
       "      <td>-0.019442</td>\n",
       "      <td>0.000000</td>\n",
       "      <td>-0.000473</td>\n",
       "      <td>-0.002997</td>\n",
       "      <td>-0.017920</td>\n",
       "      <td>-0.012252</td>\n",
       "      <td>-0.005465</td>\n",
       "      <td>-0.014297</td>\n",
       "      <td>1298332800</td>\n",
       "    </tr>\n",
       "  </tbody>\n",
       "</table>\n",
       "<p>536 rows × 10 columns</p>\n",
       "</div>"
      ],
      "text/plain": [
       "     TL BASED ISE  USD BASED ISE        SP       DAX      FTSE    NIKKEI  \\\n",
       "0        0.035754       0.038376 -0.004679  0.002193  0.003894  0.000000   \n",
       "1        0.025426       0.031813  0.007787  0.008455  0.012866  0.004162   \n",
       "2       -0.028862      -0.026353 -0.030469 -0.017833 -0.028735  0.017293   \n",
       "3       -0.062208      -0.084716  0.003391 -0.011726 -0.000466 -0.040061   \n",
       "4        0.009860       0.009658 -0.021533 -0.019873 -0.012710 -0.004474   \n",
       "..            ...            ...       ...       ...       ...       ...   \n",
       "531      0.008599       0.013400  0.006238  0.001925  0.007952  0.005717   \n",
       "532      0.009310       0.015977  0.003071 -0.001186  0.000345  0.002620   \n",
       "533      0.000191      -0.001653  0.001923  0.002872 -0.000723  0.000568   \n",
       "534     -0.013069      -0.013706 -0.020742 -0.014239 -0.011275  0.001358   \n",
       "535     -0.007246      -0.019442  0.000000 -0.000473 -0.002997 -0.017920   \n",
       "\n",
       "      BOVESPA        EU        EM   timestamp  \n",
       "0    0.031190  0.012698  0.028524  1231113600  \n",
       "1    0.018920  0.011341  0.008773  1231200000  \n",
       "2   -0.035899 -0.017073 -0.020015  1231286400  \n",
       "3    0.028283 -0.005561 -0.019424  1231372800  \n",
       "4   -0.009764 -0.010989 -0.007802  1231459200  \n",
       "..        ...       ...       ...         ...  \n",
       "531  0.018371  0.006975  0.003039  1297814400  \n",
       "532  0.001686 -0.000581  0.001039  1297900800  \n",
       "533  0.005628  0.000572  0.006938  1297987200  \n",
       "534 -0.011942 -0.012615 -0.000958  1298246400  \n",
       "535 -0.012252 -0.005465 -0.014297  1298332800  \n",
       "\n",
       "[536 rows x 10 columns]"
      ]
     },
     "execution_count": 3,
     "metadata": {},
     "output_type": "execute_result"
    }
   ],
   "source": [
    "df['date'] = pd.to_datetime(df['date'])\n",
    "df['timestamp'] = df['date'].astype('int64')//10**9\n",
    "df.drop(columns=['date'], inplace=True)\n",
    "df"
   ]
  },
  {
   "cell_type": "code",
   "execution_count": 4,
   "id": "faf2f11d-7ad3-456e-ad42-5f94580313a8",
   "metadata": {},
   "outputs": [],
   "source": [
    "from sklearn.preprocessing import MinMaxScaler"
   ]
  },
  {
   "cell_type": "code",
   "execution_count": 6,
   "id": "590f3889-b23f-4280-a7da-c9330e3bc0a1",
   "metadata": {
    "scrolled": true
   },
   "outputs": [
    {
     "data": {
      "text/html": [
       "<div>\n",
       "<style scoped>\n",
       "    .dataframe tbody tr th:only-of-type {\n",
       "        vertical-align: middle;\n",
       "    }\n",
       "\n",
       "    .dataframe tbody tr th {\n",
       "        vertical-align: top;\n",
       "    }\n",
       "\n",
       "    .dataframe thead th {\n",
       "        text-align: right;\n",
       "    }\n",
       "</style>\n",
       "<table border=\"1\" class=\"dataframe\">\n",
       "  <thead>\n",
       "    <tr style=\"text-align: right;\">\n",
       "      <th></th>\n",
       "      <th>TL BASED ISE</th>\n",
       "      <th>USD BASED ISE</th>\n",
       "      <th>SP</th>\n",
       "      <th>DAX</th>\n",
       "      <th>FTSE</th>\n",
       "      <th>NIKKEI</th>\n",
       "      <th>BOVESPA</th>\n",
       "      <th>EU</th>\n",
       "      <th>EM</th>\n",
       "      <th>timestamp</th>\n",
       "    </tr>\n",
       "  </thead>\n",
       "  <tbody>\n",
       "    <tr>\n",
       "      <th>0</th>\n",
       "      <td>0.746889</td>\n",
       "      <td>0.664154</td>\n",
       "      <td>0.404333</td>\n",
       "      <td>0.489969</td>\n",
       "      <td>0.558409</td>\n",
       "      <td>0.451728</td>\n",
       "      <td>0.722875</td>\n",
       "      <td>0.530944</td>\n",
       "      <td>0.776771</td>\n",
       "      <td>0.000000</td>\n",
       "    </tr>\n",
       "    <tr>\n",
       "      <th>1</th>\n",
       "      <td>0.668147</td>\n",
       "      <td>0.628741</td>\n",
       "      <td>0.505990</td>\n",
       "      <td>0.546240</td>\n",
       "      <td>0.643736</td>\n",
       "      <td>0.489000</td>\n",
       "      <td>0.618569</td>\n",
       "      <td>0.519229</td>\n",
       "      <td>0.548080</td>\n",
       "      <td>0.001285</td>\n",
       "    </tr>\n",
       "    <tr>\n",
       "      <th>2</th>\n",
       "      <td>0.254242</td>\n",
       "      <td>0.314902</td>\n",
       "      <td>0.194024</td>\n",
       "      <td>0.310007</td>\n",
       "      <td>0.248066</td>\n",
       "      <td>0.606576</td>\n",
       "      <td>0.152590</td>\n",
       "      <td>0.273987</td>\n",
       "      <td>0.214765</td>\n",
       "      <td>0.002571</td>\n",
       "    </tr>\n",
       "    <tr>\n",
       "      <th>3</th>\n",
       "      <td>0.000000</td>\n",
       "      <td>0.000000</td>\n",
       "      <td>0.470147</td>\n",
       "      <td>0.364884</td>\n",
       "      <td>0.516936</td>\n",
       "      <td>0.093003</td>\n",
       "      <td>0.698163</td>\n",
       "      <td>0.373348</td>\n",
       "      <td>0.221615</td>\n",
       "      <td>0.003856</td>\n",
       "    </tr>\n",
       "    <tr>\n",
       "      <th>4</th>\n",
       "      <td>0.549467</td>\n",
       "      <td>0.509203</td>\n",
       "      <td>0.266894</td>\n",
       "      <td>0.291678</td>\n",
       "      <td>0.400483</td>\n",
       "      <td>0.411670</td>\n",
       "      <td>0.374747</td>\n",
       "      <td>0.326501</td>\n",
       "      <td>0.356172</td>\n",
       "      <td>0.005141</td>\n",
       "    </tr>\n",
       "    <tr>\n",
       "      <th>...</th>\n",
       "      <td>...</td>\n",
       "      <td>...</td>\n",
       "      <td>...</td>\n",
       "      <td>...</td>\n",
       "      <td>...</td>\n",
       "      <td>...</td>\n",
       "      <td>...</td>\n",
       "      <td>...</td>\n",
       "      <td>...</td>\n",
       "      <td>...</td>\n",
       "    </tr>\n",
       "    <tr>\n",
       "      <th>531</th>\n",
       "      <td>0.539854</td>\n",
       "      <td>0.529392</td>\n",
       "      <td>0.493360</td>\n",
       "      <td>0.487558</td>\n",
       "      <td>0.597004</td>\n",
       "      <td>0.502925</td>\n",
       "      <td>0.613904</td>\n",
       "      <td>0.481545</td>\n",
       "      <td>0.481694</td>\n",
       "      <td>0.992288</td>\n",
       "    </tr>\n",
       "    <tr>\n",
       "      <th>532</th>\n",
       "      <td>0.545277</td>\n",
       "      <td>0.543299</td>\n",
       "      <td>0.467534</td>\n",
       "      <td>0.459599</td>\n",
       "      <td>0.524650</td>\n",
       "      <td>0.475185</td>\n",
       "      <td>0.472073</td>\n",
       "      <td>0.416335</td>\n",
       "      <td>0.458533</td>\n",
       "      <td>0.993573</td>\n",
       "    </tr>\n",
       "    <tr>\n",
       "      <th>533</th>\n",
       "      <td>0.475748</td>\n",
       "      <td>0.448175</td>\n",
       "      <td>0.458172</td>\n",
       "      <td>0.496068</td>\n",
       "      <td>0.514491</td>\n",
       "      <td>0.456817</td>\n",
       "      <td>0.505584</td>\n",
       "      <td>0.426279</td>\n",
       "      <td>0.526836</td>\n",
       "      <td>0.994859</td>\n",
       "    </tr>\n",
       "    <tr>\n",
       "      <th>534</th>\n",
       "      <td>0.374650</td>\n",
       "      <td>0.383140</td>\n",
       "      <td>0.273345</td>\n",
       "      <td>0.342305</td>\n",
       "      <td>0.414130</td>\n",
       "      <td>0.463884</td>\n",
       "      <td>0.356235</td>\n",
       "      <td>0.312461</td>\n",
       "      <td>0.435419</td>\n",
       "      <td>0.998715</td>\n",
       "    </tr>\n",
       "    <tr>\n",
       "      <th>535</th>\n",
       "      <td>0.419044</td>\n",
       "      <td>0.352192</td>\n",
       "      <td>0.442491</td>\n",
       "      <td>0.466011</td>\n",
       "      <td>0.492862</td>\n",
       "      <td>0.291268</td>\n",
       "      <td>0.353601</td>\n",
       "      <td>0.374177</td>\n",
       "      <td>0.280975</td>\n",
       "      <td>1.000000</td>\n",
       "    </tr>\n",
       "  </tbody>\n",
       "</table>\n",
       "<p>536 rows × 10 columns</p>\n",
       "</div>"
      ],
      "text/plain": [
       "     TL BASED ISE  USD BASED ISE        SP       DAX      FTSE    NIKKEI  \\\n",
       "0        0.746889       0.664154  0.404333  0.489969  0.558409  0.451728   \n",
       "1        0.668147       0.628741  0.505990  0.546240  0.643736  0.489000   \n",
       "2        0.254242       0.314902  0.194024  0.310007  0.248066  0.606576   \n",
       "3        0.000000       0.000000  0.470147  0.364884  0.516936  0.093003   \n",
       "4        0.549467       0.509203  0.266894  0.291678  0.400483  0.411670   \n",
       "..            ...            ...       ...       ...       ...       ...   \n",
       "531      0.539854       0.529392  0.493360  0.487558  0.597004  0.502925   \n",
       "532      0.545277       0.543299  0.467534  0.459599  0.524650  0.475185   \n",
       "533      0.475748       0.448175  0.458172  0.496068  0.514491  0.456817   \n",
       "534      0.374650       0.383140  0.273345  0.342305  0.414130  0.463884   \n",
       "535      0.419044       0.352192  0.442491  0.466011  0.492862  0.291268   \n",
       "\n",
       "      BOVESPA        EU        EM  timestamp  \n",
       "0    0.722875  0.530944  0.776771   0.000000  \n",
       "1    0.618569  0.519229  0.548080   0.001285  \n",
       "2    0.152590  0.273987  0.214765   0.002571  \n",
       "3    0.698163  0.373348  0.221615   0.003856  \n",
       "4    0.374747  0.326501  0.356172   0.005141  \n",
       "..        ...       ...       ...        ...  \n",
       "531  0.613904  0.481545  0.481694   0.992288  \n",
       "532  0.472073  0.416335  0.458533   0.993573  \n",
       "533  0.505584  0.426279  0.526836   0.994859  \n",
       "534  0.356235  0.312461  0.435419   0.998715  \n",
       "535  0.353601  0.374177  0.280975   1.000000  \n",
       "\n",
       "[536 rows x 10 columns]"
      ]
     },
     "execution_count": 6,
     "metadata": {},
     "output_type": "execute_result"
    }
   ],
   "source": [
    "scaler = MinMaxScaler()\n",
    "df_scaled = scaler.fit_transform(df)\n",
    "df_scaled = pd.DataFrame(df_scaled, columns=df.columns)\n",
    "df_scaled"
   ]
  },
  {
   "cell_type": "code",
   "execution_count": 8,
   "id": "3900fb66-4cf6-413d-b495-cacd0130c64e",
   "metadata": {},
   "outputs": [
    {
     "data": {
      "text/plain": [
       "array([0.74688902, 0.66415426, 0.40433279, 0.48996908, 0.55840869,\n",
       "       0.45172804, 0.72287474, 0.53094438, 0.77677094, 0.        ])"
      ]
     },
     "execution_count": 8,
     "metadata": {},
     "output_type": "execute_result"
    }
   ],
   "source": [
    "df_scaled.values[0]"
   ]
  },
  {
   "cell_type": "code",
   "execution_count": 11,
   "id": "3d65c600-f12f-4c70-8a30-8f149a3d25ef",
   "metadata": {},
   "outputs": [],
   "source": [
    "def create_seq(data, seqlen):\n",
    "    xsequences = []\n",
    "    ylabels = []\n",
    "    for i in range(len(data)-seqlen):\n",
    "        xsequences.append(data[i:i+seqlen])\n",
    "        ylabels.append(data[i+seqlen])\n",
    "    return np.array(xsequences), np.array(ylabels)"
   ]
  },
  {
   "cell_type": "code",
   "execution_count": 12,
   "id": "d9903838-c070-4959-a645-57d931bb72c2",
   "metadata": {},
   "outputs": [],
   "source": [
    "x,y = create_seq(df_scaled.values, 10)"
   ]
  },
  {
   "cell_type": "code",
   "execution_count": 13,
   "id": "38f82e9b-8f6e-4b19-bde9-05a41ea02317",
   "metadata": {},
   "outputs": [],
   "source": [
    "from sklearn.model_selection import train_test_split"
   ]
  },
  {
   "cell_type": "code",
   "execution_count": 14,
   "id": "3818259a-4973-418f-9b24-94e449e8bfdf",
   "metadata": {},
   "outputs": [
    {
     "data": {
      "text/plain": [
       "(420, 10, 10)"
      ]
     },
     "execution_count": 14,
     "metadata": {},
     "output_type": "execute_result"
    }
   ],
   "source": [
    "xtrain,xtest,ytrain,ytest = train_test_split(x,y,train_size=0.8, shuffle=False)\n",
    "xtrain.shape"
   ]
  },
  {
   "cell_type": "code",
   "execution_count": 16,
   "id": "61051034-bb48-4d8c-ba97-940b2b94e77c",
   "metadata": {},
   "outputs": [
    {
     "data": {
      "text/plain": [
       "(420, 10)"
      ]
     },
     "execution_count": 16,
     "metadata": {},
     "output_type": "execute_result"
    }
   ],
   "source": [
    "ytrain.shape"
   ]
  },
  {
   "cell_type": "code",
   "execution_count": 17,
   "id": "d8d1aef5-d4dd-4010-a301-0e50b948dc53",
   "metadata": {},
   "outputs": [],
   "source": [
    "from tensorflow.keras.models import Sequential\n",
    "from tensorflow.keras import layers"
   ]
  },
  {
   "cell_type": "code",
   "execution_count": 18,
   "id": "5781ceee-04e8-4b1e-8016-bf5c6d4e7d2f",
   "metadata": {},
   "outputs": [],
   "source": [
    "def create_model():\n",
    "    model = Sequential([\n",
    "        layers.LSTM(64, return_sequences=True, input_shape=(10,10)),\n",
    "        layers.Dropout(0.2),\n",
    "        layers.LSTM(32, return_sequences=False),\n",
    "        layers.Dense(1)\n",
    "    ])\n",
    "    model.compile(optimizer='adam', loss='mse')\n",
    "    return model"
   ]
  },
  {
   "cell_type": "code",
   "execution_count": 20,
   "id": "18d697e7-02f6-4318-97e6-ac9d93675f51",
   "metadata": {},
   "outputs": [
    {
     "data": {
      "text/html": [
       "<pre style=\"white-space:pre;overflow-x:auto;line-height:normal;font-family:Menlo,'DejaVu Sans Mono',consolas,'Courier New',monospace\"><span style=\"font-weight: bold\">Model: \"sequential_1\"</span>\n",
       "</pre>\n"
      ],
      "text/plain": [
       "\u001b[1mModel: \"sequential_1\"\u001b[0m\n"
      ]
     },
     "metadata": {},
     "output_type": "display_data"
    },
    {
     "data": {
      "text/html": [
       "<pre style=\"white-space:pre;overflow-x:auto;line-height:normal;font-family:Menlo,'DejaVu Sans Mono',consolas,'Courier New',monospace\">┏━━━━━━━━━━━━━━━━━━━━━━━━━━━━━━━━━━━━━━┳━━━━━━━━━━━━━━━━━━━━━━━━━━━━━┳━━━━━━━━━━━━━━━━━┓\n",
       "┃<span style=\"font-weight: bold\"> Layer (type)                         </span>┃<span style=\"font-weight: bold\"> Output Shape                </span>┃<span style=\"font-weight: bold\">         Param # </span>┃\n",
       "┡━━━━━━━━━━━━━━━━━━━━━━━━━━━━━━━━━━━━━━╇━━━━━━━━━━━━━━━━━━━━━━━━━━━━━╇━━━━━━━━━━━━━━━━━┩\n",
       "│ lstm_2 (<span style=\"color: #0087ff; text-decoration-color: #0087ff\">LSTM</span>)                        │ (<span style=\"color: #00d7ff; text-decoration-color: #00d7ff\">None</span>, <span style=\"color: #00af00; text-decoration-color: #00af00\">10</span>, <span style=\"color: #00af00; text-decoration-color: #00af00\">64</span>)              │          <span style=\"color: #00af00; text-decoration-color: #00af00\">19,200</span> │\n",
       "├──────────────────────────────────────┼─────────────────────────────┼─────────────────┤\n",
       "│ dropout_1 (<span style=\"color: #0087ff; text-decoration-color: #0087ff\">Dropout</span>)                  │ (<span style=\"color: #00d7ff; text-decoration-color: #00d7ff\">None</span>, <span style=\"color: #00af00; text-decoration-color: #00af00\">10</span>, <span style=\"color: #00af00; text-decoration-color: #00af00\">64</span>)              │               <span style=\"color: #00af00; text-decoration-color: #00af00\">0</span> │\n",
       "├──────────────────────────────────────┼─────────────────────────────┼─────────────────┤\n",
       "│ lstm_3 (<span style=\"color: #0087ff; text-decoration-color: #0087ff\">LSTM</span>)                        │ (<span style=\"color: #00d7ff; text-decoration-color: #00d7ff\">None</span>, <span style=\"color: #00af00; text-decoration-color: #00af00\">32</span>)                  │          <span style=\"color: #00af00; text-decoration-color: #00af00\">12,416</span> │\n",
       "├──────────────────────────────────────┼─────────────────────────────┼─────────────────┤\n",
       "│ dense_1 (<span style=\"color: #0087ff; text-decoration-color: #0087ff\">Dense</span>)                      │ (<span style=\"color: #00d7ff; text-decoration-color: #00d7ff\">None</span>, <span style=\"color: #00af00; text-decoration-color: #00af00\">1</span>)                   │              <span style=\"color: #00af00; text-decoration-color: #00af00\">33</span> │\n",
       "└──────────────────────────────────────┴─────────────────────────────┴─────────────────┘\n",
       "</pre>\n"
      ],
      "text/plain": [
       "┏━━━━━━━━━━━━━━━━━━━━━━━━━━━━━━━━━━━━━━┳━━━━━━━━━━━━━━━━━━━━━━━━━━━━━┳━━━━━━━━━━━━━━━━━┓\n",
       "┃\u001b[1m \u001b[0m\u001b[1mLayer (type)                        \u001b[0m\u001b[1m \u001b[0m┃\u001b[1m \u001b[0m\u001b[1mOutput Shape               \u001b[0m\u001b[1m \u001b[0m┃\u001b[1m \u001b[0m\u001b[1m        Param #\u001b[0m\u001b[1m \u001b[0m┃\n",
       "┡━━━━━━━━━━━━━━━━━━━━━━━━━━━━━━━━━━━━━━╇━━━━━━━━━━━━━━━━━━━━━━━━━━━━━╇━━━━━━━━━━━━━━━━━┩\n",
       "│ lstm_2 (\u001b[38;5;33mLSTM\u001b[0m)                        │ (\u001b[38;5;45mNone\u001b[0m, \u001b[38;5;34m10\u001b[0m, \u001b[38;5;34m64\u001b[0m)              │          \u001b[38;5;34m19,200\u001b[0m │\n",
       "├──────────────────────────────────────┼─────────────────────────────┼─────────────────┤\n",
       "│ dropout_1 (\u001b[38;5;33mDropout\u001b[0m)                  │ (\u001b[38;5;45mNone\u001b[0m, \u001b[38;5;34m10\u001b[0m, \u001b[38;5;34m64\u001b[0m)              │               \u001b[38;5;34m0\u001b[0m │\n",
       "├──────────────────────────────────────┼─────────────────────────────┼─────────────────┤\n",
       "│ lstm_3 (\u001b[38;5;33mLSTM\u001b[0m)                        │ (\u001b[38;5;45mNone\u001b[0m, \u001b[38;5;34m32\u001b[0m)                  │          \u001b[38;5;34m12,416\u001b[0m │\n",
       "├──────────────────────────────────────┼─────────────────────────────┼─────────────────┤\n",
       "│ dense_1 (\u001b[38;5;33mDense\u001b[0m)                      │ (\u001b[38;5;45mNone\u001b[0m, \u001b[38;5;34m1\u001b[0m)                   │              \u001b[38;5;34m33\u001b[0m │\n",
       "└──────────────────────────────────────┴─────────────────────────────┴─────────────────┘\n"
      ]
     },
     "metadata": {},
     "output_type": "display_data"
    },
    {
     "data": {
      "text/html": [
       "<pre style=\"white-space:pre;overflow-x:auto;line-height:normal;font-family:Menlo,'DejaVu Sans Mono',consolas,'Courier New',monospace\"><span style=\"font-weight: bold\"> Total params: </span><span style=\"color: #00af00; text-decoration-color: #00af00\">31,649</span> (123.63 KB)\n",
       "</pre>\n"
      ],
      "text/plain": [
       "\u001b[1m Total params: \u001b[0m\u001b[38;5;34m31,649\u001b[0m (123.63 KB)\n"
      ]
     },
     "metadata": {},
     "output_type": "display_data"
    },
    {
     "data": {
      "text/html": [
       "<pre style=\"white-space:pre;overflow-x:auto;line-height:normal;font-family:Menlo,'DejaVu Sans Mono',consolas,'Courier New',monospace\"><span style=\"font-weight: bold\"> Trainable params: </span><span style=\"color: #00af00; text-decoration-color: #00af00\">31,649</span> (123.63 KB)\n",
       "</pre>\n"
      ],
      "text/plain": [
       "\u001b[1m Trainable params: \u001b[0m\u001b[38;5;34m31,649\u001b[0m (123.63 KB)\n"
      ]
     },
     "metadata": {},
     "output_type": "display_data"
    },
    {
     "data": {
      "text/html": [
       "<pre style=\"white-space:pre;overflow-x:auto;line-height:normal;font-family:Menlo,'DejaVu Sans Mono',consolas,'Courier New',monospace\"><span style=\"font-weight: bold\"> Non-trainable params: </span><span style=\"color: #00af00; text-decoration-color: #00af00\">0</span> (0.00 B)\n",
       "</pre>\n"
      ],
      "text/plain": [
       "\u001b[1m Non-trainable params: \u001b[0m\u001b[38;5;34m0\u001b[0m (0.00 B)\n"
      ]
     },
     "metadata": {},
     "output_type": "display_data"
    },
    {
     "name": "stdout",
     "output_type": "stream",
     "text": [
      "Epoch 1/4\n",
      "\u001b[1m14/14\u001b[0m \u001b[32m━━━━━━━━━━━━━━━━━━━━\u001b[0m\u001b[37m\u001b[0m \u001b[1m11s\u001b[0m 123ms/step - loss: 0.1526 - val_loss: 0.0244\n",
      "Epoch 2/4\n",
      "\u001b[1m14/14\u001b[0m \u001b[32m━━━━━━━━━━━━━━━━━━━━\u001b[0m\u001b[37m\u001b[0m \u001b[1m0s\u001b[0m 30ms/step - loss: 0.0274 - val_loss: 0.0260\n",
      "Epoch 3/4\n",
      "\u001b[1m14/14\u001b[0m \u001b[32m━━━━━━━━━━━━━━━━━━━━\u001b[0m\u001b[37m\u001b[0m \u001b[1m1s\u001b[0m 29ms/step - loss: 0.0217 - val_loss: 0.0246\n",
      "Epoch 4/4\n",
      "\u001b[1m14/14\u001b[0m \u001b[32m━━━━━━━━━━━━━━━━━━━━\u001b[0m\u001b[37m\u001b[0m \u001b[1m0s\u001b[0m 32ms/step - loss: 0.0221 - val_loss: 0.0242\n"
     ]
    }
   ],
   "source": [
    "lstm = create_model()\n",
    "lstm.summary()\n",
    "hist = lstm.fit(\n",
    "    xtrain, ytrain,\n",
    "    epochs=4,\n",
    "    validation_data=(xtest, ytest),\n",
    "    batch_size=32,\n",
    "    verbose=1\n",
    ")"
   ]
  },
  {
   "cell_type": "code",
   "execution_count": 23,
   "id": "02a8c10e-355d-4065-b71a-e6850992c245",
   "metadata": {},
   "outputs": [
    {
     "data": {
      "image/png": "[encoded data removed]",
      "text/plain": [
       "<Figure size 640x480 with 1 Axes>"
      ]
     },
     "metadata": {},
     "output_type": "display_data"
    }
   ],
   "source": [
    "plt.plot(hist.history['loss'], label='Train Loss')\n",
    "plt.plot(hist.history['val_loss'], label='Validation Loss')\n",
    "plt.xlabel('Epochs')\n",
    "plt.ylabel('Loss')\n",
    "plt.legend()\n",
    "plt.show()"
   ]
  },
  {
   "cell_type": "code",
   "execution_count": 24,
   "id": "54efb236-d24d-423d-858e-15b5e192c3da",
   "metadata": {},
   "outputs": [
    {
     "name": "stdout",
     "output_type": "stream",
     "text": [
      "\u001b[1m4/4\u001b[0m \u001b[32m━━━━━━━━━━━━━━━━━━━━\u001b[0m\u001b[37m\u001b[0m \u001b[1m1s\u001b[0m 249ms/step\n"
     ]
    }
   ],
   "source": [
    "ypred_prob = lstm.predict(xtest)\n",
    "ypred = np.argmax(ypred_prob, axis=1)"
   ]
  },
  {
   "cell_type": "code",
   "execution_count": 28,
   "id": "5372b1c6-1478-41e7-b443-7d63d6c67301",
   "metadata": {},
   "outputs": [
    {
     "ename": "ValueError",
     "evalue": "y_true and y_pred have different number of output (10!=1)",
     "output_type": "error",
     "traceback": [
      "\u001b[1;31m---------------------------------------------------------------------------\u001b[0m",
      "\u001b[1;31mValueError\u001b[0m                                Traceback (most recent call last)",
      "Cell \u001b[1;32mIn[28], line 2\u001b[0m\n\u001b[0;32m      1\u001b[0m \u001b[38;5;28;01mfrom\u001b[39;00m \u001b[38;5;21;01msklearn\u001b[39;00m\u001b[38;5;21;01m.\u001b[39;00m\u001b[38;5;21;01mmetrics\u001b[39;00m \u001b[38;5;28;01mimport\u001b[39;00m mean_absolute_error\n\u001b[1;32m----> 2\u001b[0m \u001b[38;5;28mprint\u001b[39m(mean_absolute_error(ytest, ypred))\n",
      "File \u001b[1;32mC:\\Anaconda_Jupyter\\Lib\\site-packages\\sklearn\\utils\\_param_validation.py:216\u001b[0m, in \u001b[0;36mvalidate_params.<locals>.decorator.<locals>.wrapper\u001b[1;34m(*args, **kwargs)\u001b[0m\n\u001b[0;32m    210\u001b[0m \u001b[38;5;28;01mtry\u001b[39;00m:\n\u001b[0;32m    211\u001b[0m     \u001b[38;5;28;01mwith\u001b[39;00m config_context(\n\u001b[0;32m    212\u001b[0m         skip_parameter_validation\u001b[38;5;241m=\u001b[39m(\n\u001b[0;32m    213\u001b[0m             prefer_skip_nested_validation \u001b[38;5;129;01mor\u001b[39;00m global_skip_validation\n\u001b[0;32m    214\u001b[0m         )\n\u001b[0;32m    215\u001b[0m     ):\n\u001b[1;32m--> 216\u001b[0m         \u001b[38;5;28;01mreturn\u001b[39;00m func(\u001b[38;5;241m*\u001b[39margs, \u001b[38;5;241m*\u001b[39m\u001b[38;5;241m*\u001b[39mkwargs)\n\u001b[0;32m    217\u001b[0m \u001b[38;5;28;01mexcept\u001b[39;00m InvalidParameterError \u001b[38;5;28;01mas\u001b[39;00m e:\n\u001b[0;32m    218\u001b[0m     \u001b[38;5;66;03m# When the function is just a wrapper around an estimator, we allow\u001b[39;00m\n\u001b[0;32m    219\u001b[0m     \u001b[38;5;66;03m# the function to delegate validation to the estimator, but we replace\u001b[39;00m\n\u001b[0;32m    220\u001b[0m     \u001b[38;5;66;03m# the name of the estimator by the name of the function in the error\u001b[39;00m\n\u001b[0;32m    221\u001b[0m     \u001b[38;5;66;03m# message to avoid confusion.\u001b[39;00m\n\u001b[0;32m    222\u001b[0m     msg \u001b[38;5;241m=\u001b[39m re\u001b[38;5;241m.\u001b[39msub(\n\u001b[0;32m    223\u001b[0m         \u001b[38;5;124mr\u001b[39m\u001b[38;5;124m\"\u001b[39m\u001b[38;5;124mparameter of \u001b[39m\u001b[38;5;124m\\\u001b[39m\u001b[38;5;124mw+ must be\u001b[39m\u001b[38;5;124m\"\u001b[39m,\n\u001b[0;32m    224\u001b[0m         \u001b[38;5;124mf\u001b[39m\u001b[38;5;124m\"\u001b[39m\u001b[38;5;124mparameter of \u001b[39m\u001b[38;5;132;01m{\u001b[39;00mfunc\u001b[38;5;241m.\u001b[39m\u001b[38;5;18m__qualname__\u001b[39m\u001b[38;5;132;01m}\u001b[39;00m\u001b[38;5;124m must be\u001b[39m\u001b[38;5;124m\"\u001b[39m,\n\u001b[0;32m    225\u001b[0m         \u001b[38;5;28mstr\u001b[39m(e),\n\u001b[0;32m    226\u001b[0m     )\n",
      "File \u001b[1;32mC:\\Anaconda_Jupyter\\Lib\\site-packages\\sklearn\\metrics\\_regression.py:277\u001b[0m, in \u001b[0;36mmean_absolute_error\u001b[1;34m(y_true, y_pred, sample_weight, multioutput)\u001b[0m\n\u001b[0;32m    222\u001b[0m \u001b[38;5;250m\u001b[39m\u001b[38;5;124;03m\"\"\"Mean absolute error regression loss.\u001b[39;00m\n\u001b[0;32m    223\u001b[0m \n\u001b[0;32m    224\u001b[0m \u001b[38;5;124;03mRead more in the :ref:`User Guide <mean_absolute_error>`.\u001b[39;00m\n\u001b[1;32m   (...)\u001b[0m\n\u001b[0;32m    272\u001b[0m \u001b[38;5;124;03m0.85...\u001b[39;00m\n\u001b[0;32m    273\u001b[0m \u001b[38;5;124;03m\"\"\"\u001b[39;00m\n\u001b[0;32m    274\u001b[0m xp, _ \u001b[38;5;241m=\u001b[39m get_namespace(y_true, y_pred, sample_weight, multioutput)\n\u001b[0;32m    276\u001b[0m _, y_true, y_pred, sample_weight, multioutput \u001b[38;5;241m=\u001b[39m (\n\u001b[1;32m--> 277\u001b[0m     _check_reg_targets_with_floating_dtype(\n\u001b[0;32m    278\u001b[0m         y_true, y_pred, sample_weight, multioutput, xp\u001b[38;5;241m=\u001b[39mxp\n\u001b[0;32m    279\u001b[0m     )\n\u001b[0;32m    280\u001b[0m )\n\u001b[0;32m    282\u001b[0m check_consistent_length(y_true, y_pred, sample_weight)\n\u001b[0;32m    284\u001b[0m output_errors \u001b[38;5;241m=\u001b[39m _average(\n\u001b[0;32m    285\u001b[0m     xp\u001b[38;5;241m.\u001b[39mabs(y_pred \u001b[38;5;241m-\u001b[39m y_true), weights\u001b[38;5;241m=\u001b[39msample_weight, axis\u001b[38;5;241m=\u001b[39m\u001b[38;5;241m0\u001b[39m, xp\u001b[38;5;241m=\u001b[39mxp\n\u001b[0;32m    286\u001b[0m )\n",
      "File \u001b[1;32mC:\\Anaconda_Jupyter\\Lib\\site-packages\\sklearn\\metrics\\_regression.py:198\u001b[0m, in \u001b[0;36m_check_reg_targets_with_floating_dtype\u001b[1;34m(y_true, y_pred, sample_weight, multioutput, xp)\u001b[0m\n\u001b[0;32m    148\u001b[0m \u001b[38;5;250m\u001b[39m\u001b[38;5;124;03m\"\"\"Ensures that y_true, y_pred, and sample_weight correspond to the same\u001b[39;00m\n\u001b[0;32m    149\u001b[0m \u001b[38;5;124;03mregression task.\u001b[39;00m\n\u001b[0;32m    150\u001b[0m \n\u001b[1;32m   (...)\u001b[0m\n\u001b[0;32m    194\u001b[0m \u001b[38;5;124;03m    correct keyword.\u001b[39;00m\n\u001b[0;32m    195\u001b[0m \u001b[38;5;124;03m\"\"\"\u001b[39;00m\n\u001b[0;32m    196\u001b[0m dtype_name \u001b[38;5;241m=\u001b[39m _find_matching_floating_dtype(y_true, y_pred, sample_weight, xp\u001b[38;5;241m=\u001b[39mxp)\n\u001b[1;32m--> 198\u001b[0m y_type, y_true, y_pred, multioutput \u001b[38;5;241m=\u001b[39m _check_reg_targets(\n\u001b[0;32m    199\u001b[0m     y_true, y_pred, multioutput, dtype\u001b[38;5;241m=\u001b[39mdtype_name, xp\u001b[38;5;241m=\u001b[39mxp\n\u001b[0;32m    200\u001b[0m )\n\u001b[0;32m    202\u001b[0m \u001b[38;5;66;03m# _check_reg_targets does not accept sample_weight as input.\u001b[39;00m\n\u001b[0;32m    203\u001b[0m \u001b[38;5;66;03m# Convert sample_weight's data type separately to match dtype_name.\u001b[39;00m\n\u001b[0;32m    204\u001b[0m \u001b[38;5;28;01mif\u001b[39;00m sample_weight \u001b[38;5;129;01mis\u001b[39;00m \u001b[38;5;129;01mnot\u001b[39;00m \u001b[38;5;28;01mNone\u001b[39;00m:\n",
      "File \u001b[1;32mC:\\Anaconda_Jupyter\\Lib\\site-packages\\sklearn\\metrics\\_regression.py:115\u001b[0m, in \u001b[0;36m_check_reg_targets\u001b[1;34m(y_true, y_pred, multioutput, dtype, xp)\u001b[0m\n\u001b[0;32m    112\u001b[0m     y_pred \u001b[38;5;241m=\u001b[39m xp\u001b[38;5;241m.\u001b[39mreshape(y_pred, (\u001b[38;5;241m-\u001b[39m\u001b[38;5;241m1\u001b[39m, \u001b[38;5;241m1\u001b[39m))\n\u001b[0;32m    114\u001b[0m \u001b[38;5;28;01mif\u001b[39;00m y_true\u001b[38;5;241m.\u001b[39mshape[\u001b[38;5;241m1\u001b[39m] \u001b[38;5;241m!=\u001b[39m y_pred\u001b[38;5;241m.\u001b[39mshape[\u001b[38;5;241m1\u001b[39m]:\n\u001b[1;32m--> 115\u001b[0m     \u001b[38;5;28;01mraise\u001b[39;00m \u001b[38;5;167;01mValueError\u001b[39;00m(\n\u001b[0;32m    116\u001b[0m         \u001b[38;5;124m\"\u001b[39m\u001b[38;5;124my_true and y_pred have different number of output (\u001b[39m\u001b[38;5;132;01m{0}\u001b[39;00m\u001b[38;5;124m!=\u001b[39m\u001b[38;5;132;01m{1}\u001b[39;00m\u001b[38;5;124m)\u001b[39m\u001b[38;5;124m\"\u001b[39m\u001b[38;5;241m.\u001b[39mformat(\n\u001b[0;32m    117\u001b[0m             y_true\u001b[38;5;241m.\u001b[39mshape[\u001b[38;5;241m1\u001b[39m], y_pred\u001b[38;5;241m.\u001b[39mshape[\u001b[38;5;241m1\u001b[39m]\n\u001b[0;32m    118\u001b[0m         )\n\u001b[0;32m    119\u001b[0m     )\n\u001b[0;32m    121\u001b[0m n_outputs \u001b[38;5;241m=\u001b[39m y_true\u001b[38;5;241m.\u001b[39mshape[\u001b[38;5;241m1\u001b[39m]\n\u001b[0;32m    122\u001b[0m allowed_multioutput_str \u001b[38;5;241m=\u001b[39m (\u001b[38;5;124m\"\u001b[39m\u001b[38;5;124mraw_values\u001b[39m\u001b[38;5;124m\"\u001b[39m, \u001b[38;5;124m\"\u001b[39m\u001b[38;5;124muniform_average\u001b[39m\u001b[38;5;124m\"\u001b[39m, \u001b[38;5;124m\"\u001b[39m\u001b[38;5;124mvariance_weighted\u001b[39m\u001b[38;5;124m\"\u001b[39m)\n",
      "\u001b[1;31mValueError\u001b[0m: y_true and y_pred have different number of output (10!=1)"
     ]
    }
   ],
   "source": [
    "from sklearn.metrics import mean_absolute_error\n",
    "print(mean_absolute_error(ytest, ypred))"
   ]
  },
  {
   "cell_type": "code",
   "execution_count": 29,
   "id": "b3b65ae7-6322-4b4c-9bf8-481c0ad8e616",
   "metadata": {},
   "outputs": [
    {
     "name": "stdout",
     "output_type": "stream",
     "text": [
      "[[0.52516498 0.49272235 0.56558918 0.59217167 0.68230411 0.42939347\n",
      "  0.59611281 0.54659022 0.52490584 0.80077121]\n",
      " [0.45471843 0.4588514  0.42155509 0.44366572 0.4766142  0.45172804\n",
      "  0.39882643 0.39859177 0.45567769 0.80205656]\n",
      " [0.51631495 0.51308774 0.40304551 0.37286872 0.47982955 0.41828989\n",
      "  0.53347403 0.33900117 0.45019202 0.8033419 ]\n",
      " [0.44033518 0.41991902 0.37426748 0.43600477 0.51314162 0.3626912\n",
      "  0.51589392 0.38519974 0.44375385 0.80462725]\n",
      " [0.48009577 0.46958275 0.61351892 0.63380422 0.60909472 0.45172804\n",
      "  0.38353003 0.53878054 0.46245309 0.8059126 ]]\n",
      "(106, 10)\n"
     ]
    }
   ],
   "source": [
    "print(ytest[:5])\n",
    "print(ytest.shape)"
   ]
  },
  {
   "cell_type": "code",
   "execution_count": 30,
   "id": "d47fe5ff-5b0c-4fdd-9e62-90a213d6fb1b",
   "metadata": {},
   "outputs": [
    {
     "name": "stdout",
     "output_type": "stream",
     "text": [
      "ypred shape: (106,)\n",
      "ytest shape: (106, 10)\n"
     ]
    }
   ],
   "source": [
    "print(\"ypred shape:\", ypred.shape)  # should be (106, 10)\n",
    "print(\"ytest shape:\", ytest.shape)"
   ]
  },
  {
   "cell_type": "code",
   "execution_count": null,
   "id": "7e0202c0-e76a-4c5a-a54b-ed39739991a3",
   "metadata": {},
   "outputs": [],
   "source": []
  }
 ],
 "metadata": {
  "kernelspec": {
   "display_name": "Python 3 (ipykernel)",
   "language": "python",
   "name": "python3"
  },
  "language_info": {
   "codemirror_mode": {
    "name": "ipython",
    "version": 3
   },
   "file_extension": ".py",
   "mimetype": "text/x-python",
   "name": "python",
   "nbconvert_exporter": "python",
   "pygments_lexer": "ipython3",
   "version": "3.11.5"
  }
 },
 "nbformat": 4,
 "nbformat_minor": 5
}
