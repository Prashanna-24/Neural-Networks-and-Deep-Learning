{
 "cells": [
  {
   "cell_type": "code",
   "execution_count": 15,
   "id": "14013419",
   "metadata": {},
   "outputs": [],
   "source": [
    "import numpy as np\n",
    "\n",
    "class Perceptron:\n",
    "    def __init__(self):\n",
    "        #initiliazing weights and bias\n",
    "        self.weights = np.array([0.1,-0.1])\n",
    "        self.bias = 0.1\n",
    "        self.learning_rate = 0.5\n",
    "    \n",
    "    def train(self, inputs, labels, epochs=8):\n",
    "        for i in range(1,epochs+1):\n",
    "            print(f\"epoch {i} :\")\n",
    "            \n",
    "            for input, label in zip(inputs, labels):\n",
    "                # z value\n",
    "                z = np.dot(input, self.weights) + self.bias\n",
    "\n",
    "                # predicting y^ value\n",
    "                if z>=0:\n",
    "                    y_pred = 1\n",
    "                else:\n",
    "                    y_pred = 0\n",
    "\n",
    "                # error\n",
    "                error = label-y_pred\n",
    "\n",
    "                # new wieghts and bias\n",
    "                self.weights += self.learning_rate * error * input\n",
    "                self.bias += self.learning_rate * error\n",
    "            \n",
    "                print(f\"input: {input} || predicted: {y_pred} || weights: {self.weights} || bias: {self.bias}\")\n",
    "                "
   ]
  },
  {
   "cell_type": "code",
   "execution_count": 16,
   "id": "71ae4cd6",
   "metadata": {},
   "outputs": [
    {
     "name": "stdout",
     "output_type": "stream",
     "text": [
      "epoch 1 :\n",
      "input: [0 0] || predicted: 1 || weights: [ 0.1 -0.1] || bias: -0.4\n",
      "input: [0 1] || predicted: 0 || weights: [ 0.1 -0.1] || bias: -0.4\n",
      "input: [1 0] || predicted: 0 || weights: [ 0.1 -0.1] || bias: -0.4\n",
      "input: [1 1] || predicted: 0 || weights: [0.6 0.4] || bias: 0.09999999999999998\n",
      "epoch 2 :\n",
      "input: [0 0] || predicted: 1 || weights: [0.6 0.4] || bias: -0.4\n",
      "input: [0 1] || predicted: 1 || weights: [ 0.6 -0.1] || bias: -0.9\n",
      "input: [1 0] || predicted: 0 || weights: [ 0.6 -0.1] || bias: -0.9\n",
      "input: [1 1] || predicted: 0 || weights: [1.1 0.4] || bias: -0.4\n",
      "epoch 3 :\n",
      "input: [0 0] || predicted: 0 || weights: [1.1 0.4] || bias: -0.4\n",
      "input: [0 1] || predicted: 1 || weights: [ 1.1 -0.1] || bias: -0.9\n",
      "input: [1 0] || predicted: 1 || weights: [ 0.6 -0.1] || bias: -1.4\n",
      "input: [1 1] || predicted: 0 || weights: [1.1 0.4] || bias: -0.8999999999999999\n",
      "epoch 4 :\n",
      "input: [0 0] || predicted: 0 || weights: [1.1 0.4] || bias: -0.8999999999999999\n",
      "input: [0 1] || predicted: 0 || weights: [1.1 0.4] || bias: -0.8999999999999999\n",
      "input: [1 0] || predicted: 1 || weights: [0.6 0.4] || bias: -1.4\n",
      "input: [1 1] || predicted: 0 || weights: [1.1 0.9] || bias: -0.8999999999999999\n",
      "epoch 5 :\n",
      "input: [0 0] || predicted: 0 || weights: [1.1 0.9] || bias: -0.8999999999999999\n",
      "input: [0 1] || predicted: 1 || weights: [1.1 0.4] || bias: -1.4\n",
      "input: [1 0] || predicted: 0 || weights: [1.1 0.4] || bias: -1.4\n",
      "input: [1 1] || predicted: 1 || weights: [1.1 0.4] || bias: -1.4\n",
      "epoch 6 :\n",
      "input: [0 0] || predicted: 0 || weights: [1.1 0.4] || bias: -1.4\n",
      "input: [0 1] || predicted: 0 || weights: [1.1 0.4] || bias: -1.4\n",
      "input: [1 0] || predicted: 0 || weights: [1.1 0.4] || bias: -1.4\n",
      "input: [1 1] || predicted: 1 || weights: [1.1 0.4] || bias: -1.4\n",
      "epoch 7 :\n",
      "input: [0 0] || predicted: 0 || weights: [1.1 0.4] || bias: -1.4\n",
      "input: [0 1] || predicted: 0 || weights: [1.1 0.4] || bias: -1.4\n",
      "input: [1 0] || predicted: 0 || weights: [1.1 0.4] || bias: -1.4\n",
      "input: [1 1] || predicted: 1 || weights: [1.1 0.4] || bias: -1.4\n",
      "epoch 8 :\n",
      "input: [0 0] || predicted: 0 || weights: [1.1 0.4] || bias: -1.4\n",
      "input: [0 1] || predicted: 0 || weights: [1.1 0.4] || bias: -1.4\n",
      "input: [1 0] || predicted: 0 || weights: [1.1 0.4] || bias: -1.4\n",
      "input: [1 1] || predicted: 1 || weights: [1.1 0.4] || bias: -1.4\n"
     ]
    }
   ],
   "source": [
    "perc1 = Perceptron()\n",
    "inputs = np.array([\n",
    "    [0, 0],\n",
    "    [0, 1],\n",
    "    [1, 0],\n",
    "    [1, 1]\n",
    "])\n",
    "labels = np.array([0, 0, 0, 1])\n",
    "\n",
    "perc1.train(inputs, labels)"
   ]
  },
  {
   "cell_type": "code",
   "execution_count": null,
   "id": "441e85ec",
   "metadata": {},
   "outputs": [],
   "source": []
  }
 ],
 "metadata": {
  "kernelspec": {
   "display_name": "Python 3 (ipykernel)",
   "language": "python",
   "name": "python3"
  },
  "language_info": {
   "codemirror_mode": {
    "name": "ipython",
    "version": 3
   },
   "file_extension": ".py",
   "mimetype": "text/x-python",
   "name": "python",
   "nbconvert_exporter": "python",
   "pygments_lexer": "ipython3",
   "version": "3.11.5"
  }
 },
 "nbformat": 4,
 "nbformat_minor": 5
}
